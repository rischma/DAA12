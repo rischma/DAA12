{
  "nbformat": 4,
  "nbformat_minor": 0,
  "metadata": {
    "colab": {
      "name": "Pert12.ipynb",
      "provenance": []
    },
    "kernelspec": {
      "name": "python3",
      "display_name": "Python 3"
    },
    "language_info": {
      "name": "python"
    }
  },
  "cells": [
    {
      "cell_type": "code",
      "metadata": {
        "colab": {
          "base_uri": "https://localhost:8080/"
        },
        "id": "w3zmzzKp57eP",
        "outputId": "1572a2f5-6e42-41d2-ec30-0263449d9b19"
      },
      "source": [
        "pip install network"
      ],
      "execution_count": 1,
      "outputs": [
        {
          "output_type": "stream",
          "name": "stdout",
          "text": [
            "Collecting network\n",
            "  Downloading network-0.1.tar.gz (2.8 kB)\n",
            "Building wheels for collected packages: network\n",
            "  Building wheel for network (setup.py) ... \u001b[?25l\u001b[?25hdone\n",
            "  Created wheel for network: filename=network-0.1-py3-none-any.whl size=3154 sha256=78259d816c6e6452199e5f71b526b7faacf46608db45ae27994e0a166762eedc\n",
            "  Stored in directory: /root/.cache/pip/wheels/27/48/b5/cf24ed2baa2c4f96c2af7440e13bd5676a24a175fab14479ac\n",
            "Successfully built network\n",
            "Installing collected packages: network\n",
            "Successfully installed network-0.1\n"
          ]
        }
      ]
    },
    {
      "cell_type": "code",
      "metadata": {
        "colab": {
          "base_uri": "https://localhost:8080/",
          "height": 373
        },
        "id": "DVzW6gZS_CnK",
        "outputId": "b2865932-246b-4408-bf8e-73fee6044fae"
      },
      "source": [
        "import networkx as nx\n",
        "import matplotlib.pyplot as plt\n",
        "vertices = range(1,10)\n",
        "edges = [(7,2), (2,3), (7,4), (4,5), (7,3), (7,5), (1,6), (1,7), (2,8), (2,9)]\n",
        "G = nx.Graph()\n",
        "G.add_nodes_from(vertices)\n",
        "G.add_edges_from(edges)\n",
        "nx.draw(G, with_labels=True,node_color='Y',node_size=800)"
      ],
      "execution_count": 3,
      "outputs": [
        {
          "output_type": "stream",
          "name": "stderr",
          "text": [
            "/usr/local/lib/python3.7/dist-packages/networkx/drawing/nx_pylab.py:474: MatplotlibDeprecationWarning: Support for uppercase single-letter colors is deprecated since Matplotlib 3.1 and will be removed in 3.3; please use lowercase instead.\n",
            "  label=label,\n"
          ]
        },
        {
          "output_type": "display_data",
          "data": {
            "image/png": "[encoded data removed]",
            "text/plain": [
              "<Figure size 432x288 with 1 Axes>"
            ]
          },
          "metadata": {}
        }
      ]
    },
    {
      "cell_type": "code",
      "metadata": {
        "colab": {
          "base_uri": "https://localhost:8080/"
        },
        "id": "3n1biJlOH1CG",
        "outputId": "5e158ea7-8873-4ffc-926b-013c9ffd4c1b"
      },
      "source": [
        "nx.degree_centrality(G)"
      ],
      "execution_count": 4,
      "outputs": [
        {
          "output_type": "execute_result",
          "data": {
            "text/plain": [
              "{1: 0.25,\n",
              " 2: 0.5,\n",
              " 3: 0.25,\n",
              " 4: 0.25,\n",
              " 5: 0.25,\n",
              " 6: 0.125,\n",
              " 7: 0.625,\n",
              " 8: 0.125,\n",
              " 9: 0.125}"
            ]
          },
          "metadata": {},
          "execution_count": 4
        }
      ]
    },
    {
      "cell_type": "code",
      "metadata": {
        "colab": {
          "base_uri": "https://localhost:8080/"
        },
        "id": "zhL3kY_PIJNc",
        "outputId": "1aad9b18-79ed-45ef-84e4-ae04e115dbc3"
      },
      "source": [
        "nx.betweenness_centrality(G)"
      ],
      "execution_count": 5,
      "outputs": [
        {
          "output_type": "execute_result",
          "data": {
            "text/plain": [
              "{1: 0.25,\n",
              " 2: 0.46428571428571425,\n",
              " 3: 0.0,\n",
              " 4: 0.0,\n",
              " 5: 0.0,\n",
              " 6: 0.0,\n",
              " 7: 0.7142857142857142,\n",
              " 8: 0.0,\n",
              " 9: 0.0}"
            ]
          },
          "metadata": {},
          "execution_count": 5
        }
      ]
    },
    {
      "cell_type": "code",
      "metadata": {
        "colab": {
          "base_uri": "https://localhost:8080/"
        },
        "id": "c1ybxwgiIQOd",
        "outputId": "b43c6fb6-18b8-4cc7-9fcb-772103fd09f3"
      },
      "source": [
        "nx.closeness_centrality(G)"
      ],
      "execution_count": 6,
      "outputs": [
        {
          "output_type": "execute_result",
          "data": {
            "text/plain": [
              "{1: 0.5,\n",
              " 2: 0.6153846153846154,\n",
              " 3: 0.5333333333333333,\n",
              " 4: 0.47058823529411764,\n",
              " 5: 0.47058823529411764,\n",
              " 6: 0.34782608695652173,\n",
              " 7: 0.7272727272727273,\n",
              " 8: 0.4,\n",
              " 9: 0.4}"
            ]
          },
          "metadata": {},
          "execution_count": 6
        }
      ]
    },
    {
      "cell_type": "code",
      "metadata": {
        "colab": {
          "base_uri": "https://localhost:8080/"
        },
        "id": "hPxfvyEeLCYy",
        "outputId": "bee5b1f9-6806-4513-93f6-ca27b92ddf68"
      },
      "source": [
        "centrality = nx.eigenvector_centrality(G)\n",
        "sorted((v, '{:0.2f}'.format(c)) for v, c in centrality.items())"
      ],
      "execution_count": 13,
      "outputs": [
        {
          "output_type": "execute_result",
          "data": {
            "text/plain": [
              "[(1, '0.24'),\n",
              " (2, '0.45'),\n",
              " (3, '0.36'),\n",
              " (4, '0.32'),\n",
              " (5, '0.32'),\n",
              " (6, '0.08'),\n",
              " (7, '0.59'),\n",
              " (8, '0.16'),\n",
              " (9, '0.16')]"
            ]
          },
          "metadata": {},
          "execution_count": 13
        }
      ]
    },
    {
      "cell_type": "code",
      "metadata": {
        "colab": {
          "base_uri": "https://localhost:8080/",
          "height": 319
        },
        "id": "P3J5q3c1M_KD",
        "outputId": "c0571397-7074-4830-b56c-d830c4bb6862"
      },
      "source": [
        "edges = [('Lisa', 'Allen'), ('Allen','Liz'), ('Liz','Emma'), ('Liz','Shane'), ('Emma','Mike'),\n",
        "         ('Emma','Bob'), ('Emma','Jill'), ('Emma','Shane'), ('Shane','Jill'), ('Shane','Leah'), ('Shane','John'), ('Leah','John'),\n",
        "         ('Leah','Jill'), ('John','Jill'), ('John','Bob'), ('Mike','jill'), ('Mike','Bob'), ('Bob','jill')]\n",
        "G = nx.Graph()\n",
        "G.add_edges_from(edges)\n",
        "nx.draw(G, with_labels= True, node_size= 1200)"
      ],
      "execution_count": 14,
      "outputs": [
        {
          "output_type": "display_data",
          "data": {
            "image/png": "[encoded data removed]",
            "text/plain": [
              "<Figure size 432x288 with 1 Axes>"
            ]
          },
          "metadata": {}
        }
      ]
    },
    {
      "cell_type": "code",
      "metadata": {
        "colab": {
          "base_uri": "https://localhost:8080/"
        },
        "id": "90DQv2skRtn5",
        "outputId": "7ff75fe1-1a9b-43a9-e2b0-237ea9c87701"
      },
      "source": [
        "nx.degree_centrality(G)"
      ],
      "execution_count": 15,
      "outputs": [
        {
          "output_type": "execute_result",
          "data": {
            "text/plain": [
              "{'Allen': 0.2,\n",
              " 'Bob': 0.4,\n",
              " 'Emma': 0.5,\n",
              " 'Jill': 0.4,\n",
              " 'John': 0.4,\n",
              " 'Leah': 0.30000000000000004,\n",
              " 'Lisa': 0.1,\n",
              " 'Liz': 0.30000000000000004,\n",
              " 'Mike': 0.30000000000000004,\n",
              " 'Shane': 0.5,\n",
              " 'jill': 0.2}"
            ]
          },
          "metadata": {},
          "execution_count": 15
        }
      ]
    },
    {
      "cell_type": "code",
      "metadata": {
        "colab": {
          "base_uri": "https://localhost:8080/"
        },
        "id": "ekbbFejkR4M8",
        "outputId": "5f79cc3c-5b2a-49b4-c01d-7ff2b0879db2"
      },
      "source": [
        "nx.betweenness_centrality(G)"
      ],
      "execution_count": 16,
      "outputs": [
        {
          "output_type": "execute_result",
          "data": {
            "text/plain": [
              "{'Allen': 0.2,\n",
              " 'Bob': 0.15555555555555556,\n",
              " 'Emma': 0.34444444444444444,\n",
              " 'Jill': 0.025925925925925925,\n",
              " 'John': 0.08888888888888889,\n",
              " 'Leah': 0.0,\n",
              " 'Lisa': 0.0,\n",
              " 'Liz': 0.35555555555555557,\n",
              " 'Mike': 0.05925925925925927,\n",
              " 'Shane': 0.1925925925925926,\n",
              " 'jill': 0.0}"
            ]
          },
          "metadata": {},
          "execution_count": 16
        }
      ]
    },
    {
      "cell_type": "code",
      "metadata": {
        "colab": {
          "base_uri": "https://localhost:8080/"
        },
        "id": "xotHeGE_R4QU",
        "outputId": "77eb38cf-ee9d-477f-fe59-1ff27ca0f3a3"
      },
      "source": [
        "nx.closeness_centrality(G)"
      ],
      "execution_count": 17,
      "outputs": [
        {
          "output_type": "execute_result",
          "data": {
            "text/plain": [
              "{'Allen': 0.4,\n",
              " 'Bob': 0.5263157894736842,\n",
              " 'Emma': 0.625,\n",
              " 'Jill': 0.5,\n",
              " 'John': 0.5263157894736842,\n",
              " 'Leah': 0.45454545454545453,\n",
              " 'Lisa': 0.29411764705882354,\n",
              " 'Liz': 0.5555555555555556,\n",
              " 'Mike': 0.47619047619047616,\n",
              " 'Shane': 0.5882352941176471,\n",
              " 'jill': 0.37037037037037035}"
            ]
          },
          "metadata": {},
          "execution_count": 17
        }
      ]
    },
    {
      "cell_type": "code",
      "metadata": {
        "colab": {
          "base_uri": "https://localhost:8080/"
        },
        "id": "tv1rLJ03SB18",
        "outputId": "e2c25280-6212-4d68-c87d-ecfb531f3250"
      },
      "source": [
        "centrality = nx.eigenvector_centrality(G)\n",
        "sorted((v, '{:0.2f}'.format(c)) for v, c in centrality.items())"
      ],
      "execution_count": 18,
      "outputs": [
        {
          "output_type": "execute_result",
          "data": {
            "text/plain": [
              "[('Allen', '0.07'),\n",
              " ('Bob', '0.29'),\n",
              " ('Emma', '0.42'),\n",
              " ('Jill', '0.40'),\n",
              " ('John', '0.38'),\n",
              " ('Leah', '0.32'),\n",
              " ('Lisa', '0.02'),\n",
              " ('Liz', '0.24'),\n",
              " ('Mike', '0.22'),\n",
              " ('Shane', '0.45'),\n",
              " ('jill', '0.13')]"
            ]
          },
          "metadata": {},
          "execution_count": 18
        }
      ]
    },
    {
      "cell_type": "code",
      "metadata": {
        "colab": {
          "base_uri": "https://localhost:8080/",
          "height": 319
        },
        "id": "H6aleYDlSB77",
        "outputId": "b1bc5302-4c59-4269-d4fe-deab24950185"
      },
      "source": [
        "import networkx as nx\n",
        "import matplotlib.pyplot as plt\n",
        "vertices = range(1,10)\n",
        "edges = [(1,4), (1,10), (2,1), (2,3), (2,6), (2,11), (2,12), (2,15), (3,5), (3,13),(6,7), (6,8), (6,9), (6,14)]\n",
        "G = nx.Graph()\n",
        "G.add_nodes_from(vertices)\n",
        "G.add_edges_from(edges)\n",
        "nx.draw(G, with_labels=True,node_color='y',node_size=800)"
      ],
      "execution_count": 19,
      "outputs": [
        {
          "output_type": "display_data",
          "data": {
            "image/png": "[encoded data removed]",
            "text/plain": [
              "<Figure size 432x288 with 1 Axes>"
            ]
          },
          "metadata": {}
        }
      ]
    },
    {
      "cell_type": "code",
      "metadata": {
        "colab": {
          "base_uri": "https://localhost:8080/"
        },
        "id": "UFxE8kBbWBIc",
        "outputId": "e4908db7-d14e-42f8-9465-98abb8df8642"
      },
      "source": [
        "nx.degree_centrality(G)"
      ],
      "execution_count": 20,
      "outputs": [
        {
          "output_type": "execute_result",
          "data": {
            "text/plain": [
              "{1: 0.21428571428571427,\n",
              " 2: 0.42857142857142855,\n",
              " 3: 0.21428571428571427,\n",
              " 4: 0.07142857142857142,\n",
              " 5: 0.07142857142857142,\n",
              " 6: 0.3571428571428571,\n",
              " 7: 0.07142857142857142,\n",
              " 8: 0.07142857142857142,\n",
              " 9: 0.07142857142857142,\n",
              " 10: 0.07142857142857142,\n",
              " 11: 0.07142857142857142,\n",
              " 12: 0.07142857142857142,\n",
              " 13: 0.07142857142857142,\n",
              " 14: 0.07142857142857142,\n",
              " 15: 0.07142857142857142}"
            ]
          },
          "metadata": {},
          "execution_count": 20
        }
      ]
    },
    {
      "cell_type": "code",
      "metadata": {
        "colab": {
          "base_uri": "https://localhost:8080/"
        },
        "id": "CkQ0IsSvWBL5",
        "outputId": "8bd9fe41-f87e-4c80-bc2e-ad5635e53df9"
      },
      "source": [
        "nx.betweenness_centrality(G)"
      ],
      "execution_count": 21,
      "outputs": [
        {
          "output_type": "execute_result",
          "data": {
            "text/plain": [
              "{1: 0.27472527472527475,\n",
              " 2: 0.8241758241758242,\n",
              " 3: 0.27472527472527475,\n",
              " 4: 0.0,\n",
              " 5: 0.0,\n",
              " 6: 0.5054945054945056,\n",
              " 7: 0.0,\n",
              " 8: 0.0,\n",
              " 9: 0.0,\n",
              " 10: 0.0,\n",
              " 11: 0.0,\n",
              " 12: 0.0,\n",
              " 13: 0.0,\n",
              " 14: 0.0,\n",
              " 15: 0.0}"
            ]
          },
          "metadata": {},
          "execution_count": 21
        }
      ]
    },
    {
      "cell_type": "code",
      "metadata": {
        "colab": {
          "base_uri": "https://localhost:8080/"
        },
        "id": "QAsiWU43WBPu",
        "outputId": "80a246c3-44c6-4356-d926-54282206253e"
      },
      "source": [
        "nx.closeness_centrality(G)"
      ],
      "execution_count": 22,
      "outputs": [
        {
          "output_type": "execute_result",
          "data": {
            "text/plain": [
              "{1: 0.45161290322580644,\n",
              " 2: 0.6363636363636364,\n",
              " 3: 0.45161290322580644,\n",
              " 4: 0.3181818181818182,\n",
              " 5: 0.3181818181818182,\n",
              " 6: 0.5185185185185185,\n",
              " 7: 0.35,\n",
              " 8: 0.35,\n",
              " 9: 0.35,\n",
              " 10: 0.3181818181818182,\n",
              " 11: 0.4,\n",
              " 12: 0.4,\n",
              " 13: 0.3181818181818182,\n",
              " 14: 0.35,\n",
              " 15: 0.4}"
            ]
          },
          "metadata": {},
          "execution_count": 22
        }
      ]
    },
    {
      "cell_type": "code",
      "metadata": {
        "colab": {
          "base_uri": "https://localhost:8080/"
        },
        "id": "fofM-PhTWBT6",
        "outputId": "06f44c3b-fb44-4e73-ca6b-4f97e12f8b2e"
      },
      "source": [
        "centrality = nx.eigenvector_centrality(G)\n",
        "sorted((v, '{:0.2f}'.format(c)) for v, c in centrality.items())"
      ],
      "execution_count": 23,
      "outputs": [
        {
          "output_type": "execute_result",
          "data": {
            "text/plain": [
              "[(1, '0.29'),\n",
              " (2, '0.60'),\n",
              " (3, '0.29'),\n",
              " (4, '0.10'),\n",
              " (5, '0.10'),\n",
              " (6, '0.44'),\n",
              " (7, '0.16'),\n",
              " (8, '0.16'),\n",
              " (9, '0.16'),\n",
              " (10, '0.10'),\n",
              " (11, '0.21'),\n",
              " (12, '0.21'),\n",
              " (13, '0.10'),\n",
              " (14, '0.16'),\n",
              " (15, '0.21')]"
            ]
          },
          "metadata": {},
          "execution_count": 23
        }
      ]
    }
  ]
}